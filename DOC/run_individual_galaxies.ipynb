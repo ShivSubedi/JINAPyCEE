{
 "cells": [
  {
   "cell_type": "markdown",
   "metadata": {},
   "source": [
    "# Run Individual Galaxies with OMEGA+ (the code that runs on each GAMMA branch)"
   ]
  },
  {
   "cell_type": "code",
   "execution_count": null,
   "metadata": {
    "collapsed": true
   },
   "outputs": [],
   "source": [
    "# Import python modules\n",
    "import numpy as np\n",
    "import matplotlib\n",
    "import matplotlib.pyplot as plt\n",
    "import copy\n",
    "import imp\n",
    "import os"
   ]
  },
  {
   "cell_type": "code",
   "execution_count": null,
   "metadata": {
    "collapsed": false
   },
   "outputs": [],
   "source": [
    "# Define path to the codes\n",
    "sygmadir = '/Users/benoitcote/Desktop/Carleen/Code_Carleen/NuPyCEE'\n",
    "jinapydir = '/Users/benoitcote/Desktop/Carleen/Code_Carleen/JINAPyCEE'\n",
    "\n",
    "# Set the environments to let Python knows where are the codes\n",
    "os.environ['SYGMADIR'] = sygmadir\n",
    "os.environ['JINAPYDIR'] = jinapydir\n",
    "\n",
    "# Import the codes\n",
    "sygma = imp.load_source('sygma', sygmadir+'/sygma.py')\n",
    "omega = imp.load_source('omega', sygmadir+'/omega.py')\n",
    "gamma = imp.load_source('gamma', jinapydir+'/gamma.py')\n",
    "\n",
    "omega_plus = imp.load_source('omega_plus', jinapydir+'/omega_plus.py')"
   ]
  },
  {
   "cell_type": "markdown",
   "metadata": {},
   "source": [
    "## Set Parameters"
   ]
  },
  {
   "cell_type": "code",
   "execution_count": null,
   "metadata": {
    "collapsed": true
   },
   "outputs": [],
   "source": [
    "# Function to return the correctly-scaled parameters\n",
    "# for trees, as a function of their final dark matter mass\n",
    "def get_input_sfe(m_DM_final):\n",
    "    return sfe / (m_DM_final / m_DM_0_ref)**sfe_m_index\n",
    "def get_input_mass_loading(m_DM_final):\n",
    "    c_eta = mass_loading * m_DM_0_ref**(exp_ml/3.0)\n",
    "    return c_eta * m_DM_final**(-exp_ml/3.0)"
   ]
  },
  {
   "cell_type": "code",
   "execution_count": null,
   "metadata": {
    "collapsed": false
   },
   "outputs": [],
   "source": [
    "# SHOULD NOT be modified\n",
    "m_DM_0_ref = 1.0e12\n",
    "C17_eta_z_dep = False\n",
    "DM_outflow_C17 = True\n",
    "sfe_m_dep = True\n",
    "t_star = -1\n",
    "t_inflow = -1\n",
    "\n",
    "# Parameters to explore\n",
    "t_ff_index = 4.36668122e-01 \n",
    "f_t_ff = 7.53074817e+00 \n",
    "sfe_m_index = 0\n",
    "sfe = 9.47334087e-02\n",
    "f_dyn = 5.98605814e-02\n",
    "t_sf_z_dep = 0.5\n",
    "exp_ml = 1.95785862e+00 \n",
    "mass_loading = 0.2\n",
    "f_halo_to_gal_out =  8.06626165e-01\n",
    "nb_1a_per_m = 1.26060077e-03\n",
    "\n",
    "# Extra parameter when OMEGA+ is not connected to GAMMA\n",
    "# Mass of the dark matter halo hosting the central galaxy\n",
    "m_DM_0 = 1.0e12  # [Msun]\n",
    "\n",
    "# Define the dictionary containing GAMMA parameters\n",
    "# Here I replaced host_tree.m_DM_0 by m_CM_0\n",
    "kwargs = {\"print_off\":False, \"t_ff_index\":t_ff_index, \"f_t_ff\":f_t_ff,\\\n",
    "          \"sfe_m_index\":sfe_m_index, \"sfe\":get_input_sfe(m_DM_0), \\\n",
    "          \"f_dyn\":f_dyn, \"t_sf_z_dep\":t_sf_z_dep, \"exp_ml\":exp_ml, \\\n",
    "          \"mass_loading\":get_input_mass_loading(m_DM_0),\\\n",
    "          \"f_halo_to_gal_out\":f_halo_to_gal_out, \"nb_1a_per_m\":nb_1a_per_m,\\\n",
    "          \"C17_eta_z_dep\":C17_eta_z_dep, \"DM_outflow_C17\":DM_outflow_C17,\\\n",
    "          \"sfe_m_dep\":sfe_m_dep, \"t_star\":t_star, \"t_inflow\":t_inflow,\\\n",
    "          \"m_DM_0\":m_DM_0}"
   ]
  },
  {
   "cell_type": "markdown",
   "metadata": {},
   "source": [
    "## Run OMEGA+"
   ]
  },
  {
   "cell_type": "code",
   "execution_count": null,
   "metadata": {
    "collapsed": false
   },
   "outputs": [],
   "source": [
    "# special_timesteps is the number of timesteps (they get longer as time increase)\n",
    "# You can reduce the number of timesteps if you want to gain time ..\n",
    "op = omega_plus.omega_plus(special_timesteps=250, **kwargs)"
   ]
  },
  {
   "cell_type": "markdown",
   "metadata": {},
   "source": [
    "## Plot Outputs"
   ]
  },
  {
   "cell_type": "markdown",
   "metadata": {},
   "source": [
    "### Mass of gas and stars as a function of time"
   ]
  },
  {
   "cell_type": "code",
   "execution_count": null,
   "metadata": {
    "collapsed": false
   },
   "outputs": [],
   "source": [
    "%matplotlib nbagg\n",
    "\n",
    "# Extract the time array\n",
    "t = np.array(op.inner.history.age) / 1.0e9\n",
    "nb_t = len(t)\n",
    "\n",
    "# Extract the mass of stars inside the galaxy\n",
    "m_star = np.zeros(nb_t-1)\n",
    "m_star[0] = op.inner.history.m_locked[0] - sum(op.inner.mdot[0])\n",
    "for i_t in range(1,nb_t-1):\n",
    "    m_star[i_t] = m_star[i_t-1] + op.inner.history.m_locked[i_t] - sum(op.inner.mdot[i_t])\n",
    "\n",
    "# Extract the mass of gas inside the galaxy\n",
    "m_gas_in = np.zeros(nb_t)\n",
    "for i_t in range(nb_t):\n",
    "    m_gas_in[i_t] = sum(op.inner.ymgal[i_t])\n",
    "    \n",
    "# Extract the mass of gas in the circumgalactic medium (gas surrounding the galaxy)\n",
    "m_gas_cgm = np.zeros(nb_t)\n",
    "for i_t in range(nb_t):\n",
    "    m_gas_cgm[i_t] = sum(op.ymgal_outer[i_t])\n",
    "    \n",
    "# Extract the mass of gas lost forever (lost from the circumgalactic medium)\n",
    "m_gas_lost = np.zeros(nb_t-1)\n",
    "m_gas_lost[0] = op.m_lost_t[0]\n",
    "for i_t in range(1,nb_t-1):\n",
    "    m_gas_lost[i_t] = m_gas_lost[i_t-1] + op.m_lost_t[i_t]\n",
    "\n",
    "# Plot quantities\n",
    "plt.plot(t[:-1], m_star, label='Stars in galaxy')\n",
    "plt.plot(t,      m_gas_in, label='Gas in galaxy')\n",
    "plt.plot(t,      m_gas_cgm, label='Gas in CGM')\n",
    "plt.plot(t[:-1], m_gas_lost, label='Gas lost')\n",
    "\n",
    "# Adjust the y axis limits\n",
    "plt.ylim(1e5, 1e12)\n",
    "\n",
    "# Labels, legend, and scaling\n",
    "plt.title('Dark matter halo mass = '+str('%.2E'%m_DM_0)+' Msun', fontsize=12)\n",
    "plt.xlabel('Time [Gyr]')\n",
    "plt.ylabel('Mass [M$_\\odot$]')\n",
    "plt.yscale('log')\n",
    "plt.legend(fontsize=12, loc='best')"
   ]
  },
  {
   "cell_type": "markdown",
   "metadata": {},
   "source": [
    "### Star formation rate as a function of time"
   ]
  },
  {
   "cell_type": "code",
   "execution_count": null,
   "metadata": {
    "collapsed": false
   },
   "outputs": [],
   "source": [
    "%matplotlib nbagg\n",
    "op.inner.plot_star_formation_rate(color='k', label='Test 1')\n",
    "#plt.yscale('log')"
   ]
  },
  {
   "cell_type": "markdown",
   "metadata": {},
   "source": [
    "### [Fe/H] as a function of time"
   ]
  },
  {
   "cell_type": "code",
   "execution_count": null,
   "metadata": {
    "collapsed": false
   },
   "outputs": [],
   "source": [
    "%matplotlib nbagg\n",
    "op.inner.plot_spectro(color='k', label='Test 1')\n",
    "plt.ylim(-5,1)\n",
    "plt.xlim(1e7,13e9)\n",
    "plt.xscale('log')"
   ]
  },
  {
   "cell_type": "markdown",
   "metadata": {},
   "source": [
    "### Plot star formation efficiency"
   ]
  },
  {
   "cell_type": "code",
   "execution_count": null,
   "metadata": {
    "collapsed": false
   },
   "outputs": [],
   "source": [
    "%matplotlib nbagg\n",
    "\n",
    "# Extract the star formation efficiency [yr^-1]\n",
    "sfe_t = np.zeros(nb_t-1)\n",
    "for i_t in range(nb_t-1):\n",
    "    sfe_t[i_t] = op.sfe[i_t] / op.inner.t_SF_t[i_t]\n",
    "\n",
    "# Plot quantity\n",
    "plt.plot(t[:-1], sfe_t)\n",
    "\n",
    "# Labels\n",
    "plt.xlabel('Time [Gyr]')\n",
    "plt.ylabel('Star formation efficiency [yr$^{-1}$]')"
   ]
  },
  {
   "cell_type": "code",
   "execution_count": null,
   "metadata": {
    "collapsed": true
   },
   "outputs": [],
   "source": []
  }
 ],
 "metadata": {
  "kernelspec": {
   "display_name": "Python 3",
   "language": "python",
   "name": "python3"
  },
  "language_info": {
   "codemirror_mode": {
    "name": "ipython",
    "version": 3
   },
   "file_extension": ".py",
   "mimetype": "text/x-python",
   "name": "python",
   "nbconvert_exporter": "python",
   "pygments_lexer": "ipython3",
   "version": "3.4.8"
  }
 },
 "nbformat": 4,
 "nbformat_minor": 0
}
