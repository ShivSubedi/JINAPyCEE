{
 "cells": [
  {
   "cell_type": "markdown",
   "metadata": {},
   "source": [
    "# Parametrization of Merger Trees"
   ]
  },
  {
   "cell_type": "code",
   "execution_count": null,
   "metadata": {
    "collapsed": true
   },
   "outputs": [],
   "source": [
    "# Import python modules\n",
    "import numpy as np\n",
    "import matplotlib\n",
    "import matplotlib.pyplot as plt\n",
    "import copy\n",
    "import imp\n",
    "import os\n",
    "import glob\n",
    "import sys\n",
    "import time"
   ]
  },
  {
   "cell_type": "code",
   "execution_count": null,
   "metadata": {
    "collapsed": true
   },
   "outputs": [],
   "source": [
    "# Define path to the codes\n",
    "cagadir = '/Users/benoitcote/Desktop/Carleen/Code_Carleen/caga/caga'\n",
    "sygmadir = '/Users/benoitcote/Desktop/Carleen/Code_Carleen/NuPyCEE'\n",
    "jinapydir = '/Users/benoitcote/Desktop/Carleen/Code_Carleen/JINAPyCEE'\n",
    "\n",
    "# Set the environments to let Python knows where are the codes\n",
    "os.environ['CAGADIR'] = cagadir\n",
    "os.environ['SYGMADIR'] = sygmadir\n",
    "os.environ['JINAPYDIR'] = jinapydir\n",
    "\n",
    "# Import the codes\n",
    "caga  = imp.load_source('caga', cagadir+'/caga.py')\n",
    "calc  = imp.load_source('calc', cagadir+'/calc.py')\n",
    "plot  = imp.load_source('plot', cagadir+'/plot.py')\n",
    "sygma = imp.load_source('sygma', sygmadir+'/sygma.py')\n",
    "omega = imp.load_source('omega', sygmadir+'/omega.py')\n",
    "gamma = imp.load_source('gamma', jinapydir+'/gamma.py')\n",
    "omega_plus = imp.load_source('omega_plus', jinapydir+'/omega_plus.py')"
   ]
  },
  {
   "cell_type": "code",
   "execution_count": null,
   "metadata": {
    "collapsed": false
   },
   "outputs": [],
   "source": [
    "# Get the file name for the host tree (Milky-Way-like halo)\n",
    "hostID = 686\n",
    "hostfname = cagadir+\"/../notebooks/H1725272_LX11/rsid{}.npy\".format(hostID)\n",
    "\n",
    "# Get the file names for the satellite sub-trees\n",
    "# Below, the host tree will be removed from that list\n",
    "subfnames = glob.glob(cagadir+\"/../notebooks/H1725272_LX11/*\")\n",
    "\n",
    "# Convert \\ into /, (happens sometime with Windows machines)\n",
    "# Here should be the script we made ..\n",
    "\n",
    "# Remove the host tree file name from the sub-tree file names\n",
    "subfnames.remove(hostfname)\n",
    "print(len(subfnames),'sub-trees found')"
   ]
  },
  {
   "cell_type": "code",
   "execution_count": null,
   "metadata": {
    "collapsed": true
   },
   "outputs": [],
   "source": [
    "# Load the GAMMA input arrays for each tree\n",
    "host_tree = caga.gamma_tree.load(hostfname)\n",
    "sub_trees = [caga.gamma_tree.load(subfname) for subfname in subfnames]"
   ]
  },
  {
   "cell_type": "code",
   "execution_count": null,
   "metadata": {
    "collapsed": true
   },
   "outputs": [],
   "source": [
    "# Get the indexes for the branch that are merging together\n",
    "def get_merging_branch_index(the_tree, desc_ID):\n",
    "    i_z_br_merging = []\n",
    "    for i_z_gmbi in range(len(the_tree.br_m_halo)):\n",
    "        for i_br_gmbi in range(len(the_tree.br_m_halo[i_z_gmbi])):\n",
    "            if the_tree.br_ID_merge[i_z_gmbi][i_br_gmbi] == desc_ID:\n",
    "                i_z_br_merging.append([i_z_gmbi,i_br_gmbi])\n",
    "    return i_z_br_merging\n",
    "\n",
    "# Find the initial mass of the branch that ends up being the trunk\n",
    "def get_initial_trunk_index(the_tree):\n",
    "    for i_z_giti in range(len(the_tree.br_halo_ID)):\n",
    "        for i_br_giti in range(len(the_tree.br_halo_ID[i_z_giti])):\n",
    "            if the_tree.br_halo_ID[i_z_giti][i_br_giti][-1] == the_tree.tree_trunk_ID:\n",
    "                return i_z_giti, i_br_giti\n",
    "    print('Error - trunk not found.')\n",
    "    return -1, -1"
   ]
  },
  {
   "cell_type": "code",
   "execution_count": null,
   "metadata": {
    "collapsed": false
   },
   "outputs": [],
   "source": [
    "# Get the evolution of the mass of the main branch of a given tree\n",
    "def get_mass_main_branch(the_tree):\n",
    "\n",
    "    # Define the number of redshifts and initialize the list of mass for the main branch\n",
    "    nb_z = len(the_tree.redshifts)\n",
    "    m_main_branch = np.zeros(nb_z)\n",
    "\n",
    "    # Initialize the branch index (begining of the branch that becomes the trunk)\n",
    "    the_i_z, the_i_br = get_initial_trunk_index(the_tree)\n",
    "    the_m = the_tree.br_m_halo[the_i_z][the_i_br]\n",
    "    for i_z in range(len(the_m)):\n",
    "        m_main_branch[the_i_z+i_z] = the_m[i_z]\n",
    "\n",
    "    # While we have not yet covered all redshifts ..\n",
    "    while the_i_z >= 0:\n",
    "\n",
    "        # Get all branches that merged to form the current branch\n",
    "        i_z_br_merging = get_merging_branch_index(the_tree, the_tree.br_halo_ID[the_i_z][the_i_br][0])\n",
    "\n",
    "        # Quit if we reached a leaf\n",
    "        len_i_z_br_merging = len(i_z_br_merging)\n",
    "        if len_i_z_br_merging == 0:\n",
    "            break\n",
    "\n",
    "        # Find the branch index that has the most massive end point\n",
    "        m_max, i_z_br_max = -1, 0\n",
    "        for i_z_br in range(len_i_z_br_merging):\n",
    "            test_m = the_tree.br_m_halo[i_z_br_merging[i_z_br][0]][i_z_br_merging[i_z_br][1]][-1]\n",
    "            if test_m > float(m_max):\n",
    "                m_max = ('%.3e'%copy.deepcopy(test_m))\n",
    "                i_z_br_max = copy.deepcopy(i_z_br)\n",
    "\n",
    "        # Go to the previous step\n",
    "        # Begining of the most massive building-block branch\n",
    "        the_i_z = copy.deepcopy(i_z_br_merging[i_z_br_max][0])\n",
    "        the_i_br = copy.deepcopy(i_z_br_merging[i_z_br_max][1])\n",
    "\n",
    "        # Collect the masses\n",
    "        the_m = the_tree.br_m_halo[the_i_z][the_i_br]\n",
    "        for i_z in range(len(the_m)):\n",
    "            m_main_branch[the_i_z+i_z] = the_m[i_z]\n",
    "            \n",
    "    # Return the mass history\n",
    "    return m_main_branch"
   ]
  },
  {
   "cell_type": "code",
   "execution_count": null,
   "metadata": {
    "collapsed": false
   },
   "outputs": [],
   "source": [
    "# Extract the mass history of the main branch of a given tree\n",
    "the_tree = host_tree\n",
    "#the_tree = sub_trees[5]\n",
    "m_main_branch = get_mass_main_branch(the_tree)"
   ]
  },
  {
   "cell_type": "code",
   "execution_count": null,
   "metadata": {
    "collapsed": false
   },
   "outputs": [],
   "source": [
    "# Plot the full mass history along with the extracted main branch\n",
    "%matplotlib nbagg\n",
    "the_tree.plot_mass_history()\n",
    "plt.plot(the_tree.redshifts, m_main_branch, color='c', linewidth=8, alpha=0.4, zorder=-1, label='Main branch')\n",
    "plt.legend(frameon=False, fontsize=13)\n",
    "plt.savefig('a.pdf', dpi=150, bbox_inches='tight')"
   ]
  },
  {
   "cell_type": "code",
   "execution_count": null,
   "metadata": {
    "collapsed": false
   },
   "outputs": [],
   "source": []
  },
  {
   "cell_type": "code",
   "execution_count": null,
   "metadata": {
    "collapsed": true
   },
   "outputs": [],
   "source": []
  }
 ],
 "metadata": {
  "kernelspec": {
   "display_name": "Python 3",
   "language": "python",
   "name": "python3"
  },
  "language_info": {
   "codemirror_mode": {
    "name": "ipython",
    "version": 3
   },
   "file_extension": ".py",
   "mimetype": "text/x-python",
   "name": "python",
   "nbconvert_exporter": "python",
   "pygments_lexer": "ipython3",
   "version": "3.4.8"
  }
 },
 "nbformat": 4,
 "nbformat_minor": 0
}
